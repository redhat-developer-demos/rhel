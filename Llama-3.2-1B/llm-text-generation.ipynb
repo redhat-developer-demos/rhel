{
 "cells": [
  {
   "cell_type": "markdown",
   "id": "e50f03be",
   "metadata": {},
   "source": [
    "## Install the Dependencies"
   ]
  },
  {
   "cell_type": "code",
   "execution_count": null,
   "id": "ae88bbf8",
   "metadata": {},
   "outputs": [],
   "source": [
    "! pip install transformers\n",
    "! pip install accelerate>=0.26.0"
   ]
  },
  {
   "cell_type": "markdown",
   "id": "358e5205",
   "metadata": {},
   "source": [
    "## Fetch the Llama-3.2-1B-Instruct model"
   ]
  },
  {
   "cell_type": "code",
   "execution_count": 8,
   "id": "9bac689a-aa87-4d22-8fc0-1971b242b20e",
   "metadata": {},
   "outputs": [],
   "source": [
    "import torch\n",
    "from transformers import pipeline\n",
    "\n",
    "model_id = \"meta-llama/Llama-3.2-1B-Instruct\"\n",
    "pipe = pipeline(\n",
    "    \"text-generation\",\n",
    "    model=model_id,\n",
    "    torch_dtype=torch.bfloat16,\n",
    "    device_map=\"auto\"\n",
    ")\n",
    "\n"
   ]
  },
  {
   "cell_type": "markdown",
   "id": "840db34f",
   "metadata": {},
   "source": [
    "## Test the LLM model on RHEL"
   ]
  },
  {
   "cell_type": "code",
   "execution_count": null,
   "id": "cb14c0b3-57cc-446a-9cd0-454443baa0cf",
   "metadata": {},
   "outputs": [
    {
     "name": "stderr",
     "output_type": "stream",
     "text": [
      "Setting `pad_token_id` to `eos_token_id`:None for open-end generation.\n"
     ]
    }
   ],
   "source": [
    "messages = [\n",
    "    {\"role\": \"system\", \"content\": \"You are a pirate chatbot who always responds in pirate speak!\"},\n",
    "    {\"role\": \"user\", \"content\": \"Who are you?\"},\n",
    "]\n",
    "outputs = pipe(\n",
    "    messages,\n",
    "    max_new_tokens=256,\n",
    ")\n",
    "print(outputs[0][\"generated_text\"][-1])"
   ]
  },
  {
   "cell_type": "code",
   "execution_count": null,
   "id": "e53ea4d6-8792-4afe-9fa3-a940f10cc9a9",
   "metadata": {},
   "outputs": [],
   "source": []
  }
 ],
 "metadata": {
  "kernelspec": {
   "display_name": "Python 3 (ipykernel)",
   "language": "python",
   "name": "python3"
  },
  "language_info": {
   "codemirror_mode": {
    "name": "ipython",
    "version": 3
   },
   "file_extension": ".py",
   "mimetype": "text/x-python",
   "name": "python",
   "nbconvert_exporter": "python",
   "pygments_lexer": "ipython3",
   "version": "3.9.20"
  }
 },
 "nbformat": 4,
 "nbformat_minor": 5
}
